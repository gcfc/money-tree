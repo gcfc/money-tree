{
 "cells": [
  {
   "cell_type": "code",
   "execution_count": null,
   "metadata": {},
   "outputs": [],
   "source": [
    "class Strategy:\n",
    "    def __init__(self, data) -> None:\n",
    "        self.data = data\n",
    "        self.indicator = None\n",
    "\n",
    "data = [0,1,2,3,4,5]\n",
    "strat = Strategy(data)\n",
    "strat.__dict__.items()"
   ]
  },
  {
   "cell_type": "code",
   "execution_count": null,
   "metadata": {},
   "outputs": [],
   "source": [
    "print(len.__name__)\n",
    "print(len.__class__.__name__)"
   ]
  },
  {
   "cell_type": "code",
   "execution_count": null,
   "metadata": {},
   "outputs": [],
   "source": [
    "import datetime as dt \n",
    "import yfinance as yf\n",
    "import pandas as pd\n",
    "\n",
    "num_days = 730\n",
    "start=dt.date(2021, 1, 1)\n",
    "start = max(start, dt.date.today() - dt.timedelta(days=num_days-1))\n",
    "end = dt.date.today() \n",
    "print(start, end)\n",
    "data = yf.download(\"SPY\", interval=\"1h\", start=start, end=end, prepost=True)\n",
    "data = data.drop(['Adj Close'], axis=1)\n",
    "data.index = list(map(lambda x: dt.datetime.strptime(str(x).replace(\":\",\"\"), '%Y-%m-%d %H%M%S%z').replace(tzinfo=None), data.index))\n",
    "data = data.rename_axis(\"Datetime\").reset_index()\n",
    "print(data)\n"
   ]
  },
  {
   "cell_type": "code",
   "execution_count": null,
   "metadata": {},
   "outputs": [],
   "source": [
    "timestr = '2022-07-28 04:00:00'\n",
    "output = dt.datetime.strptime(timestr, '%Y-%m-%d %H:%M:%S')\n",
    "print(output)\n"
   ]
  },
  {
   "cell_type": "code",
   "execution_count": null,
   "metadata": {},
   "outputs": [],
   "source": [
    "import bokeh.colors\n",
    "\n",
    "# for c in dir(bokeh.colors.named):\n",
    "    # print(c, c.__class__)\n",
    "import bokeh.palettes\n",
    "print(bokeh.palettes.Dark2_8)\n",
    "\n",
    "# print(bokeh.colors.named.blue.__class__)\n",
    "# print(all_colors)"
   ]
  },
  {
   "cell_type": "markdown",
   "metadata": {},
   "source": [
    "# Top gainers aftermath"
   ]
  },
  {
   "cell_type": "code",
   "execution_count": null,
   "metadata": {},
   "outputs": [],
   "source": [
    "from tradingview_screener import *\n",
    "import pandas as pd\n",
    "pd.options.display.float_format = '{:,.2f}'.format\n",
    "\n",
    "n_rows, df = (Query()\n",
    " .select('name', 'close', 'change', 'volume', 'relative_volume_10d_calc', 'market_cap_basic', 'float_shares_outstanding')\n",
    " .where(\n",
    "     Column('market_cap_basic') >= 1_000_000,\n",
    "     Column('relative_volume_10d_calc') > 1.2,\n",
    "     Column('change') > 5,\n",
    "     Column('volume') > 1E6,\n",
    "     Column('close') > 2,\n",
    "    )\n",
    " .order_by('change', ascending=False)\n",
    " .get_scanner_data())\n",
    "\n",
    "df.volume = df.volume * 1E-6\n",
    "df.market_cap_basic = df.market_cap_basic * 1E-6\n",
    "df.float_shares_outstanding = df.float_shares_outstanding * 1E-6\n",
    "df = df.rename(columns={\n",
    "    \"volume\": \"Volume (M)\", \n",
    "    \"market_cap_basic\": \"Market Cap (M)\",\n",
    "    \"change\": \"Change %\",\n",
    "    \"float_shares_outstanding\": \"Float (M)\"\n",
    "    })\n",
    "df = df[df.ticker.str.contains(\"NASDAQ:\") | df.ticker.str.contains(\"NYSE:\")]\n",
    "print(len(df))\n",
    "display(df)\n"
   ]
  },
  {
   "cell_type": "code",
   "execution_count": null,
   "metadata": {},
   "outputs": [],
   "source": [
    "import datetime as dt\n",
    "from pandas.tseries.offsets import BDay\n",
    "\n",
    "(dt.date(2024, 9, 1) - BDay(0)).date()"
   ]
  },
  {
   "cell_type": "code",
   "execution_count": null,
   "metadata": {},
   "outputs": [],
   "source": [
    "import datetime as dt\n",
    "from pandas.tseries.offsets import BDay\n",
    "\n",
    "# all_data = {dt.date.today() : df.ticker.to_list()}\n",
    "fake_date_range = [dt.date(2024, 9, i) for i in range(1, 30)]\n",
    "fake_data = {fake_date_range[i//2] : [str(j) for j in range(i, i+3)] for i in range(0, len(fake_date_range)*2,2)}\n",
    "print(fake_data)\n",
    "\n",
    "\n",
    "observation_time = 1 # days after making top gainer list\n",
    "for today_date in fake_date_range:\n",
    "    stocks_to_scan = set()\n",
    "    for time_delta in range(observation_time + 1):\n",
    "        # lookback_date = (today_date - BDay(time_delta)).date()\n",
    "        lookback_date = today_date - dt.timedelta(days=time_delta)\n",
    "        print(lookback_date)\n",
    "        if lookback_date in fake_data:\n",
    "            stocks_to_scan.update(fake_data[lookback_date])\n",
    "            print(\"updated:\", fake_data[lookback_date])\n",
    "    print(today_date, stocks_to_scan)\n",
    "    print()\n",
    "        "
   ]
  },
  {
   "cell_type": "markdown",
   "metadata": {},
   "source": [
    "# Premarket"
   ]
  },
  {
   "cell_type": "code",
   "execution_count": null,
   "metadata": {},
   "outputs": [],
   "source": [
    "from tradingview_screener import *\n",
    "import pandas as pd\n",
    "\n",
    "pd.options.display.float_format = '{:,.2f}'.format\n",
    "\n",
    "n_rows, df = (\n",
    "    Scanner.premarket_gainers\n",
    "    .select('name', 'close', 'volume', 'premarket_change', 'premarket_volume', 'relative_volume_10d_calc', 'market_cap_basic', 'float_shares_outstanding')\n",
    "    .where(\n",
    "     Column('market_cap_basic') >= 1_000_000,\n",
    "     Column('relative_volume_10d_calc') > 1.2,\n",
    "     Column('premarket_change') > 5,\n",
    "     Column('premarket_volume') > 1E6,\n",
    "     Column('close') > 1\n",
    "    )\n",
    "    .get_scanner_data())\n",
    "\n",
    "\n",
    "df.volume = df.volume * 1E-6\n",
    "df.market_cap_basic = df.market_cap_basic * 1E-6\n",
    "df.premarket_volume = df.premarket_volume * 1E-6\n",
    "df.float_shares_outstanding = df.float_shares_outstanding * 1E-6\n",
    "df = df.rename(columns={\n",
    "    \"volume\": \"Volume (M)\", \n",
    "    \"market_cap_basic\": \"Market Cap (M)\",\n",
    "    \"premarket_change\": \"Premarket %\",\n",
    "    \"premarket_change_abs\": \"Premarket $\",\n",
    "    \"premarket_volume\": \"Premarket Volume (M)\",\n",
    "    \"float_shares_outstanding\": \"Float (M)\"\n",
    "    })\n",
    "print(n_rows)\n",
    "\n",
    "display(df)"
   ]
  },
  {
   "cell_type": "code",
   "execution_count": null,
   "metadata": {},
   "outputs": [],
   "source": [
    "import datetime as dt\n",
    "if dt.date.weekday(dt.date.today()) < 5:\n",
    "    pass\n",
    "from download import *\n",
    "from visualize import *\n",
    "\n",
    "yf_df = update_from_yf(\"EBS\", \"1m\", dt.datetime(2024,8,28), dt.datetime(2024,8,30))\n",
    "\n",
    "# visualize(df)\n"
   ]
  },
  {
   "cell_type": "code",
   "execution_count": null,
   "metadata": {},
   "outputs": [],
   "source": [
    "# pd.set_option('display.max_rows', 2500)\n",
    "display(yf_df)"
   ]
  },
  {
   "cell_type": "code",
   "execution_count": null,
   "metadata": {},
   "outputs": [],
   "source": [
    "import requests\n",
    "import pandas as pd\n",
    "import datetime as dt\n",
    "\n",
    "url = 'https://api.polygon.io/v2/aggs/ticker/EBS/range/1/minute/2023-08-01/2023-08-30?adjusted=true&sort=asc&limit=50000&apiKey=*'\n",
    "r = requests.get(url)\n",
    "if not (r.json() and \"results\" in r.json() and \"status\" in r.json() and r.json()[\"status\"] == \"OK\"):\n",
    "    raise RuntimeError(\"Polygon JSON Error!\")\n",
    "results = r.json()['results']\n",
    "# df = pd.DataFrame(columns=[\"Datetime\", 'Open', 'High', 'Low', 'Close', 'Volume'])\n",
    "df = pd.json_normalize(results)\n",
    "df.t = pd.Series.apply(df.t, lambda x: dt.datetime.fromtimestamp(x*1E-3).astimezone(dt.timezone(dt.timedelta(hours=-4))).replace(tzinfo=None))\n"
   ]
  },
  {
   "cell_type": "code",
   "execution_count": null,
   "metadata": {},
   "outputs": [],
   "source": [
    "print(r.json()['count'])"
   ]
  },
  {
   "cell_type": "code",
   "execution_count": null,
   "metadata": {},
   "outputs": [],
   "source": [
    "display(df)"
   ]
  },
  {
   "cell_type": "code",
   "execution_count": null,
   "metadata": {},
   "outputs": [],
   "source": [
    "market_open = pd.to_datetime('09:30:00').time()\n",
    "market_close = pd.to_datetime('16:00:00').time()\n",
    "df = df.rename(columns={\"v\": \"Volume\", \"vw\": \"VWAP\", \"o\": \"Open\", \"c\": \"Close\", \"h\":\"High\", \"l\":\"Low\", \"t\":\"Datetime\"})\n",
    "\n",
    "# TODO: Clean up this code\n",
    "\n",
    "pre_post_data = df.loc[(df['Datetime'].dt.time <= market_open) | (df['Datetime'].dt.time >= market_close)]\n",
    "\n",
    "# TODO: Lookup not by exact value, but by the closest timestamp in yf_df after the query timestamp. \n",
    "for index, row in pre_post_data.iterrows():\n",
    "    yf_row = yf_df[yf_df['Datetime'] == row.Datetime]\n",
    "    assert len(yf_row) <= 1, \"Multiple of the same timestamps found.\"\n",
    "    yf_df.loc[yf_row.index, 'Volume'] = row.Volume\n",
    "    \n",
    "\n",
    "# pre_post_data[\"closest_timestamp\"] = pd.merge_asof(pre_post_data, yf_df, on='Datetime', direction='forward')['Datetime']\n",
    "\n",
    "\n"
   ]
  },
  {
   "cell_type": "code",
   "execution_count": 31,
   "metadata": {},
   "outputs": [
    {
     "name": "stdout",
     "output_type": "stream",
     "text": [
      "[datetime.date(2024, 1, 2), datetime.date(2024, 1, 3), datetime.date(2024, 1, 4), datetime.date(2024, 1, 5), datetime.date(2024, 1, 8), datetime.date(2024, 1, 9), datetime.date(2024, 1, 10), datetime.date(2024, 1, 11), datetime.date(2024, 1, 12), datetime.date(2024, 1, 16), datetime.date(2024, 1, 17), datetime.date(2024, 1, 18), datetime.date(2024, 1, 19), datetime.date(2024, 1, 22), datetime.date(2024, 1, 23), datetime.date(2024, 1, 24), datetime.date(2024, 1, 25), datetime.date(2024, 1, 26), datetime.date(2024, 1, 29), datetime.date(2024, 1, 30), datetime.date(2024, 1, 31), datetime.date(2024, 2, 1), datetime.date(2024, 2, 2), datetime.date(2024, 2, 5), datetime.date(2024, 2, 6), datetime.date(2024, 2, 7), datetime.date(2024, 2, 8), datetime.date(2024, 2, 9), datetime.date(2024, 2, 12), datetime.date(2024, 2, 13), datetime.date(2024, 2, 14), datetime.date(2024, 2, 15), datetime.date(2024, 2, 16), datetime.date(2024, 2, 20), datetime.date(2024, 2, 21), datetime.date(2024, 2, 22), datetime.date(2024, 2, 23), datetime.date(2024, 2, 26), datetime.date(2024, 2, 27), datetime.date(2024, 2, 28), datetime.date(2024, 2, 29), datetime.date(2024, 3, 1), datetime.date(2024, 3, 4), datetime.date(2024, 3, 5), datetime.date(2024, 3, 6), datetime.date(2024, 3, 7), datetime.date(2024, 3, 8), datetime.date(2024, 3, 11), datetime.date(2024, 3, 12), datetime.date(2024, 3, 13), datetime.date(2024, 3, 14), datetime.date(2024, 3, 15), datetime.date(2024, 3, 18), datetime.date(2024, 3, 19), datetime.date(2024, 3, 20), datetime.date(2024, 3, 21), datetime.date(2024, 3, 22), datetime.date(2024, 3, 25), datetime.date(2024, 3, 26), datetime.date(2024, 3, 27), datetime.date(2024, 3, 28), datetime.date(2024, 4, 1), datetime.date(2024, 4, 2), datetime.date(2024, 4, 3), datetime.date(2024, 4, 4), datetime.date(2024, 4, 5), datetime.date(2024, 4, 8), datetime.date(2024, 4, 9), datetime.date(2024, 4, 10), datetime.date(2024, 4, 11), datetime.date(2024, 4, 12), datetime.date(2024, 4, 15), datetime.date(2024, 4, 16), datetime.date(2024, 4, 17), datetime.date(2024, 4, 18), datetime.date(2024, 4, 19), datetime.date(2024, 4, 22), datetime.date(2024, 4, 23), datetime.date(2024, 4, 24), datetime.date(2024, 4, 25), datetime.date(2024, 4, 26), datetime.date(2024, 4, 29), datetime.date(2024, 4, 30), datetime.date(2024, 5, 1), datetime.date(2024, 5, 2), datetime.date(2024, 5, 3), datetime.date(2024, 5, 6), datetime.date(2024, 5, 7), datetime.date(2024, 5, 8), datetime.date(2024, 5, 9), datetime.date(2024, 5, 10), datetime.date(2024, 5, 13), datetime.date(2024, 5, 14), datetime.date(2024, 5, 15), datetime.date(2024, 5, 16), datetime.date(2024, 5, 17), datetime.date(2024, 5, 20), datetime.date(2024, 5, 21), datetime.date(2024, 5, 22), datetime.date(2024, 5, 23), datetime.date(2024, 5, 24), datetime.date(2024, 5, 28), datetime.date(2024, 5, 29), datetime.date(2024, 5, 30), datetime.date(2024, 5, 31), datetime.date(2024, 6, 3), datetime.date(2024, 6, 4), datetime.date(2024, 6, 5), datetime.date(2024, 6, 6), datetime.date(2024, 6, 7), datetime.date(2024, 6, 10), datetime.date(2024, 6, 11), datetime.date(2024, 6, 12), datetime.date(2024, 6, 13), datetime.date(2024, 6, 14), datetime.date(2024, 6, 17), datetime.date(2024, 6, 18), datetime.date(2024, 6, 20), datetime.date(2024, 6, 21), datetime.date(2024, 6, 24), datetime.date(2024, 6, 25), datetime.date(2024, 6, 26), datetime.date(2024, 6, 27), datetime.date(2024, 6, 28), datetime.date(2024, 7, 1), datetime.date(2024, 7, 2), datetime.date(2024, 7, 5), datetime.date(2024, 7, 8), datetime.date(2024, 7, 9), datetime.date(2024, 7, 10), datetime.date(2024, 7, 11), datetime.date(2024, 7, 12), datetime.date(2024, 7, 15), datetime.date(2024, 7, 16), datetime.date(2024, 7, 17), datetime.date(2024, 7, 18), datetime.date(2024, 7, 19), datetime.date(2024, 7, 22), datetime.date(2024, 7, 23), datetime.date(2024, 7, 24), datetime.date(2024, 7, 25), datetime.date(2024, 7, 26), datetime.date(2024, 7, 29), datetime.date(2024, 7, 30), datetime.date(2024, 7, 31), datetime.date(2024, 8, 1), datetime.date(2024, 8, 2), datetime.date(2024, 8, 5), datetime.date(2024, 8, 6), datetime.date(2024, 8, 7), datetime.date(2024, 8, 8), datetime.date(2024, 8, 9), datetime.date(2024, 8, 12), datetime.date(2024, 8, 13), datetime.date(2024, 8, 14), datetime.date(2024, 8, 15), datetime.date(2024, 8, 16), datetime.date(2024, 8, 19), datetime.date(2024, 8, 20), datetime.date(2024, 8, 21), datetime.date(2024, 8, 22), datetime.date(2024, 8, 23), datetime.date(2024, 8, 26), datetime.date(2024, 8, 27), datetime.date(2024, 8, 28), datetime.date(2024, 8, 29), datetime.date(2024, 8, 30), datetime.date(2024, 9, 3), datetime.date(2024, 9, 4), datetime.date(2024, 9, 5), datetime.date(2024, 9, 6), datetime.date(2024, 9, 9), datetime.date(2024, 9, 10), datetime.date(2024, 9, 11), datetime.date(2024, 9, 12), datetime.date(2024, 9, 13), datetime.date(2024, 9, 16), datetime.date(2024, 9, 17), datetime.date(2024, 9, 18), datetime.date(2024, 9, 19), datetime.date(2024, 9, 20), datetime.date(2024, 9, 23), datetime.date(2024, 9, 24), datetime.date(2024, 9, 25), datetime.date(2024, 9, 26), datetime.date(2024, 9, 27), datetime.date(2024, 9, 30), datetime.date(2024, 10, 1), datetime.date(2024, 10, 2), datetime.date(2024, 10, 3), datetime.date(2024, 10, 4), datetime.date(2024, 10, 7), datetime.date(2024, 10, 8), datetime.date(2024, 10, 9), datetime.date(2024, 10, 10), datetime.date(2024, 10, 11), datetime.date(2024, 10, 14), datetime.date(2024, 10, 15), datetime.date(2024, 10, 16), datetime.date(2024, 10, 17), datetime.date(2024, 10, 18), datetime.date(2024, 10, 21), datetime.date(2024, 10, 22), datetime.date(2024, 10, 23), datetime.date(2024, 10, 24), datetime.date(2024, 10, 25), datetime.date(2024, 10, 28), datetime.date(2024, 10, 29), datetime.date(2024, 10, 30), datetime.date(2024, 10, 31), datetime.date(2024, 11, 1), datetime.date(2024, 11, 4), datetime.date(2024, 11, 5), datetime.date(2024, 11, 6), datetime.date(2024, 11, 7), datetime.date(2024, 11, 8), datetime.date(2024, 11, 11), datetime.date(2024, 11, 12), datetime.date(2024, 11, 13), datetime.date(2024, 11, 14), datetime.date(2024, 11, 15), datetime.date(2024, 11, 18), datetime.date(2024, 11, 19), datetime.date(2024, 11, 20), datetime.date(2024, 11, 21), datetime.date(2024, 11, 22), datetime.date(2024, 11, 25), datetime.date(2024, 11, 26), datetime.date(2024, 11, 27), datetime.date(2024, 12, 2), datetime.date(2024, 12, 3), datetime.date(2024, 12, 4), datetime.date(2024, 12, 5), datetime.date(2024, 12, 6), datetime.date(2024, 12, 9), datetime.date(2024, 12, 10), datetime.date(2024, 12, 11), datetime.date(2024, 12, 12), datetime.date(2024, 12, 13), datetime.date(2024, 12, 16), datetime.date(2024, 12, 17), datetime.date(2024, 12, 18), datetime.date(2024, 12, 19), datetime.date(2024, 12, 20), datetime.date(2024, 12, 23), datetime.date(2024, 12, 26), datetime.date(2024, 12, 27), datetime.date(2024, 12, 30), datetime.date(2024, 12, 31)]\n",
      "True\n"
     ]
    }
   ],
   "source": [
    "import pandas_market_calendars as mcal\n",
    "import pandas as pd\n",
    "import datetime as dt\n",
    "\n",
    "market_schedule = mcal.get_calendar('NYSE').schedule(start_date='2024-01-01', end_date='2024-12-31')\n",
    "regular_business_days = market_schedule.loc[market_schedule['market_close'].dt.time >= pd.to_datetime('20:00:00').time()].index.to_list()\n",
    "\n",
    "regular_business_days = [i.to_pydatetime().date() for i in regular_business_days]\n",
    "print(regular_business_days)\n",
    "print((dt.datetime.now().date() + dt.timedelta(days=1)) in regular_business_days)"
   ]
  }
 ],
 "metadata": {
  "kernelspec": {
   "display_name": "Python 3",
   "language": "python",
   "name": "python3"
  },
  "language_info": {
   "codemirror_mode": {
    "name": "ipython",
    "version": 3
   },
   "file_extension": ".py",
   "mimetype": "text/x-python",
   "name": "python",
   "nbconvert_exporter": "python",
   "pygments_lexer": "ipython3",
   "version": "3.12.2"
  }
 },
 "nbformat": 4,
 "nbformat_minor": 2
}
