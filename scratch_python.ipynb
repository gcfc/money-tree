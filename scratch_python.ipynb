{
 "cells": [
  {
   "cell_type": "code",
   "execution_count": 1,
   "metadata": {},
   "outputs": [
    {
     "data": {
      "text/plain": [
       "dict_items([('data', [0, 1, 2, 3, 4, 5]), ('indicator', None)])"
      ]
     },
     "execution_count": 1,
     "metadata": {},
     "output_type": "execute_result"
    }
   ],
   "source": [
    "class Strategy:\n",
    "    def __init__(self, data) -> None:\n",
    "        self.data = data\n",
    "        self.indicator = None\n",
    "\n",
    "data = [0,1,2,3,4,5]\n",
    "strat = Strategy(data)\n",
    "strat.__dict__.items()"
   ]
  },
  {
   "cell_type": "code",
   "execution_count": 4,
   "metadata": {},
   "outputs": [
    {
     "name": "stdout",
     "output_type": "stream",
     "text": [
      "len\n",
      "builtin_function_or_method\n"
     ]
    }
   ],
   "source": [
    "print(len.__name__)\n",
    "print(len.__class__.__name__)"
   ]
  },
  {
   "cell_type": "code",
   "execution_count": 1,
   "metadata": {},
   "outputs": [
    {
     "name": "stdout",
     "output_type": "stream",
     "text": [
      "2022-07-28 2024-07-26\n"
     ]
    },
    {
     "name": "stderr",
     "output_type": "stream",
     "text": [
      "[*********************100%%**********************]  1 of 1 completed"
     ]
    },
    {
     "name": "stdout",
     "output_type": "stream",
     "text": [
      "                Datetime        Open        High         Low       Close  \\\n",
      "0    2022-07-28 04:00:00  400.140000  401.040000  399.800000  399.960000   \n",
      "1    2022-07-28 05:00:00  399.980000  399.980000  399.170000  399.340000   \n",
      "2    2022-07-28 06:00:00  399.330000  400.100000  399.290000  400.100000   \n",
      "3    2022-07-28 07:00:00  400.100000  400.370000  399.830000  400.240000   \n",
      "4    2022-07-28 08:00:00  400.200000  401.000000  399.280400  399.980000   \n",
      "...                  ...         ...         ...         ...         ...   \n",
      "8327 2024-07-25 15:30:00  543.130005  543.309998  538.130005  538.340027   \n",
      "8328 2024-07-25 16:00:00  538.340000  542.610000  508.874900  538.650000   \n",
      "8329 2024-07-25 17:00:00  538.620000  538.740000  538.380000  538.590000   \n",
      "8330 2024-07-25 18:00:00  538.740000  539.470000  538.740000  538.900000   \n",
      "8331 2024-07-25 19:00:00  538.900000  539.360000  538.770000  539.360000   \n",
      "\n",
      "        Volume  \n",
      "0            0  \n",
      "1            0  \n",
      "2            0  \n",
      "3            0  \n",
      "4            0  \n",
      "...        ...  \n",
      "8327  10394986  \n",
      "8328         0  \n",
      "8329         0  \n",
      "8330         0  \n",
      "8331         0  \n",
      "\n",
      "[8332 rows x 6 columns]\n"
     ]
    },
    {
     "name": "stderr",
     "output_type": "stream",
     "text": [
      "\n"
     ]
    }
   ],
   "source": [
    "import datetime as dt \n",
    "import yfinance as yf\n",
    "import pandas as pd\n",
    "\n",
    "num_days = 730\n",
    "start=dt.date(2021, 1, 1)\n",
    "start = max(start, dt.date.today() - dt.timedelta(days=num_days-1))\n",
    "end = dt.date.today() \n",
    "print(start, end)\n",
    "data = yf.download(\"SPY\", interval=\"1h\", start=start, end=end, prepost=True)\n",
    "data = data.drop(['Adj Close'], axis=1)\n",
    "data.index = list(map(lambda x: dt.datetime.strptime(str(x).replace(\":\",\"\"), '%Y-%m-%d %H%M%S%z').replace(tzinfo=None), data.index))\n",
    "data = data.rename_axis(\"Datetime\").reset_index()\n",
    "print(data)\n"
   ]
  },
  {
   "cell_type": "code",
   "execution_count": 11,
   "metadata": {},
   "outputs": [
    {
     "name": "stdout",
     "output_type": "stream",
     "text": [
      "2022-07-28 04:00:00\n"
     ]
    }
   ],
   "source": [
    "timestr = '2022-07-28 04:00:00'\n",
    "output = dt.datetime.strptime(timestr, '%Y-%m-%d %H:%M:%S')\n",
    "print(output)\n"
   ]
  },
  {
   "cell_type": "code",
   "execution_count": 60,
   "metadata": {},
   "outputs": [
    {
     "name": "stdout",
     "output_type": "stream",
     "text": [
      "('#1b9e77', '#d95f02', '#7570b3', '#e7298a', '#66a61e', '#e6ab02', '#a6761d', '#666666')\n"
     ]
    }
   ],
   "source": [
    "import bokeh.colors\n",
    "\n",
    "# for c in dir(bokeh.colors.named):\n",
    "    # print(c, c.__class__)\n",
    "import bokeh.palettes\n",
    "print(bokeh.palettes.Dark2_8)\n",
    "\n",
    "# print(bokeh.colors.named.blue.__class__)\n",
    "# print(all_colors)"
   ]
  }
 ],
 "metadata": {
  "kernelspec": {
   "display_name": "Python 3",
   "language": "python",
   "name": "python3"
  },
  "language_info": {
   "codemirror_mode": {
    "name": "ipython",
    "version": 3
   },
   "file_extension": ".py",
   "mimetype": "text/x-python",
   "name": "python",
   "nbconvert_exporter": "python",
   "pygments_lexer": "ipython3",
   "version": "3.12.2"
  }
 },
 "nbformat": 4,
 "nbformat_minor": 2
}
