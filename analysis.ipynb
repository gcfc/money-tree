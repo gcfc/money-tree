{
 "cells": [
  {
   "cell_type": "code",
   "execution_count": null,
   "metadata": {},
   "outputs": [],
   "source": [
    "from matplotlib import pyplot as plt\n",
    "from utils import *\n",
    "import pickle\n",
    "from tqdm import tqdm\n",
    "\n",
    "# This pickle is a dictionary of date to df of premarket top gainers every day. \n",
    "PREMARKET_TOP_GAINERS_PICKLE = os.path.join(BASE_DIR, \"data\", \"premarket_top_gainers.pkl\")\n",
    "PREMARKET_TOP_GAINERS = dict()\n",
    "if os.path.exists(PREMARKET_TOP_GAINERS_PICKLE):\n",
    "    with open(PREMARKET_TOP_GAINERS_PICKLE, 'rb') as f:\n",
    "        PREMARKET_TOP_GAINERS = pickle.load(f)\n",
    "else:\n",
    "    raise FileNotFoundError(\"Cannot find premarket top gainers pickle file.\")\n",
    "\n",
    "# This pickle is a dictionary of date to df of daily top gainers in market hours. \n",
    "DAILY_TOP_GAINERS_PICKLE = os.path.join(BASE_DIR, \"data\", \"daily_top_gainers.pkl\")\n",
    "DAILY_TOP_GAINERS = dict()\n",
    "if os.path.exists(DAILY_TOP_GAINERS_PICKLE):\n",
    "    with open(DAILY_TOP_GAINERS_PICKLE, 'rb') as f:\n",
    "        DAILY_TOP_GAINERS = pickle.load(f)\n",
    "else:\n",
    "    raise FileNotFoundError(\"Cannot find daily top gainers pickle file.\")\n"
   ]
  },
  {
   "cell_type": "markdown",
   "metadata": {},
   "source": [
    "# What happens to premarket gainers? "
   ]
  },
  {
   "cell_type": "code",
   "execution_count": null,
   "metadata": {},
   "outputs": [],
   "source": [
    "premarket_intervals = [\"1m\", \"5m\", \"15m\", \"30m\", \"1h\"]\n",
    "for date, premarket_df in tqdm(PREMARKET_TOP_GAINERS.items()):\n",
    "    print(date)\n",
    "    display(premarket_df)"
   ]
  }
 ],
 "metadata": {
  "language_info": {
   "name": "python"
  }
 },
 "nbformat": 4,
 "nbformat_minor": 2
}
